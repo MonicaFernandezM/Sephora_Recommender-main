{
 "cells": [
  {
   "cell_type": "markdown",
   "id": "b4e3f821-c837-4c4a-a9ab-0a0a0fa36dbb",
   "metadata": {},
   "source": [
    "# Reviews"
   ]
  },
  {
   "cell_type": "code",
   "execution_count": 136,
   "id": "1da01bd2-65a3-4b1d-8156-2e69badac257",
   "metadata": {},
   "outputs": [],
   "source": [
    "import pandas as pd\n",
    "import numpy as np\n",
    "import matplotlib.pyplot as plt\n",
    "import seaborn as sns\n",
    "import re"
   ]
  },
  {
   "cell_type": "code",
   "execution_count": 138,
   "id": "4e016350-a793-499e-a0ed-ead06379eabf",
   "metadata": {},
   "outputs": [
    {
     "name": "stderr",
     "output_type": "stream",
     "text": [
      "C:\\Users\\bigle\\AppData\\Local\\Temp\\ipykernel_27360\\4215495468.py:1: DtypeWarning: Columns (1) have mixed types. Specify dtype option on import or set low_memory=False.\n",
      "  reviews1 = pd.read_csv(\"reviews_0-250.csv\")\n",
      "C:\\Users\\bigle\\AppData\\Local\\Temp\\ipykernel_27360\\4215495468.py:4: DtypeWarning: Columns (1) have mixed types. Specify dtype option on import or set low_memory=False.\n",
      "  reviews4 = pd.read_csv(\"reviews_750-1250.csv\")\n",
      "C:\\Users\\bigle\\AppData\\Local\\Temp\\ipykernel_27360\\4215495468.py:5: DtypeWarning: Columns (1) have mixed types. Specify dtype option on import or set low_memory=False.\n",
      "  reviews5 = pd.read_csv(\"reviews_1250-end.csv\")\n"
     ]
    }
   ],
   "source": [
    "reviews1 = pd.read_csv(\"reviews_0-250.csv\")\n",
    "reviews2 = pd.read_csv(\"reviews_250-500.csv\")\n",
    "reviews3 = pd.read_csv(\"reviews_500-750.csv\")\n",
    "reviews4 = pd.read_csv(\"reviews_750-1250.csv\")\n",
    "reviews5 = pd.read_csv(\"reviews_1250-end.csv\")\n",
    "products_final = pd.read_csv(\"products_final.csv\")"
   ]
  },
  {
   "cell_type": "markdown",
   "id": "8949a79f-a9c7-4ca8-8d72-379459ed7fc2",
   "metadata": {},
   "source": [
    "## Unificamos todas las tablas de reviews"
   ]
  },
  {
   "cell_type": "code",
   "execution_count": 140,
   "id": "856b9b50-2245-4a35-b6a8-9f4a0aea8452",
   "metadata": {},
   "outputs": [
    {
     "data": {
      "text/plain": [
       "(1094411, 19)"
      ]
     },
     "execution_count": 140,
     "metadata": {},
     "output_type": "execute_result"
    }
   ],
   "source": [
    "reviews = pd.concat([reviews1,reviews2,reviews3,reviews4,reviews5])\n",
    "reviews.shape"
   ]
  },
  {
   "cell_type": "markdown",
   "id": "88f2d536-9749-4a8a-97db-5fb8e3d6eccd",
   "metadata": {},
   "source": [
    "## Duplicados y nulos"
   ]
  },
  {
   "cell_type": "code",
   "execution_count": 142,
   "id": "d63913d3-f55d-466e-be12-59e92ea2582b",
   "metadata": {},
   "outputs": [
    {
     "data": {
      "text/html": [
       "<div>\n",
       "<style scoped>\n",
       "    .dataframe tbody tr th:only-of-type {\n",
       "        vertical-align: middle;\n",
       "    }\n",
       "\n",
       "    .dataframe tbody tr th {\n",
       "        vertical-align: top;\n",
       "    }\n",
       "\n",
       "    .dataframe thead th {\n",
       "        text-align: right;\n",
       "    }\n",
       "</style>\n",
       "<table border=\"1\" class=\"dataframe\">\n",
       "  <thead>\n",
       "    <tr style=\"text-align: right;\">\n",
       "      <th></th>\n",
       "      <th>Unnamed: 0</th>\n",
       "      <th>author_id</th>\n",
       "      <th>rating</th>\n",
       "      <th>is_recommended</th>\n",
       "      <th>helpfulness</th>\n",
       "      <th>total_feedback_count</th>\n",
       "      <th>total_neg_feedback_count</th>\n",
       "      <th>total_pos_feedback_count</th>\n",
       "      <th>submission_time</th>\n",
       "      <th>review_text</th>\n",
       "      <th>review_title</th>\n",
       "      <th>skin_tone</th>\n",
       "      <th>eye_color</th>\n",
       "      <th>skin_type</th>\n",
       "      <th>hair_color</th>\n",
       "      <th>product_id</th>\n",
       "      <th>product_name</th>\n",
       "      <th>brand_name</th>\n",
       "      <th>price_usd</th>\n",
       "    </tr>\n",
       "  </thead>\n",
       "  <tbody>\n",
       "    <tr>\n",
       "      <th>0</th>\n",
       "      <td>0</td>\n",
       "      <td>1741593524</td>\n",
       "      <td>5</td>\n",
       "      <td>1.0</td>\n",
       "      <td>1.0</td>\n",
       "      <td>2</td>\n",
       "      <td>0</td>\n",
       "      <td>2</td>\n",
       "      <td>2023-02-01</td>\n",
       "      <td>I use this with the Nudestix “Citrus Clean Bal...</td>\n",
       "      <td>Taught me how to double cleanse!</td>\n",
       "      <td>NaN</td>\n",
       "      <td>brown</td>\n",
       "      <td>dry</td>\n",
       "      <td>black</td>\n",
       "      <td>P504322</td>\n",
       "      <td>Gentle Hydra-Gel Face Cleanser</td>\n",
       "      <td>NUDESTIX</td>\n",
       "      <td>19.0</td>\n",
       "    </tr>\n",
       "    <tr>\n",
       "      <th>1</th>\n",
       "      <td>1</td>\n",
       "      <td>31423088263</td>\n",
       "      <td>1</td>\n",
       "      <td>0.0</td>\n",
       "      <td>NaN</td>\n",
       "      <td>0</td>\n",
       "      <td>0</td>\n",
       "      <td>0</td>\n",
       "      <td>2023-03-21</td>\n",
       "      <td>I bought this lip mask after reading the revie...</td>\n",
       "      <td>Disappointed</td>\n",
       "      <td>NaN</td>\n",
       "      <td>NaN</td>\n",
       "      <td>NaN</td>\n",
       "      <td>NaN</td>\n",
       "      <td>P420652</td>\n",
       "      <td>Lip Sleeping Mask Intense Hydration with Vitam...</td>\n",
       "      <td>LANEIGE</td>\n",
       "      <td>24.0</td>\n",
       "    </tr>\n",
       "    <tr>\n",
       "      <th>2</th>\n",
       "      <td>2</td>\n",
       "      <td>5061282401</td>\n",
       "      <td>5</td>\n",
       "      <td>1.0</td>\n",
       "      <td>NaN</td>\n",
       "      <td>0</td>\n",
       "      <td>0</td>\n",
       "      <td>0</td>\n",
       "      <td>2023-03-21</td>\n",
       "      <td>My review title says it all! I get so excited ...</td>\n",
       "      <td>New Favorite Routine</td>\n",
       "      <td>light</td>\n",
       "      <td>brown</td>\n",
       "      <td>dry</td>\n",
       "      <td>blonde</td>\n",
       "      <td>P420652</td>\n",
       "      <td>Lip Sleeping Mask Intense Hydration with Vitam...</td>\n",
       "      <td>LANEIGE</td>\n",
       "      <td>24.0</td>\n",
       "    </tr>\n",
       "  </tbody>\n",
       "</table>\n",
       "</div>"
      ],
      "text/plain": [
       "   Unnamed: 0    author_id  rating  is_recommended  helpfulness  \\\n",
       "0           0   1741593524       5             1.0          1.0   \n",
       "1           1  31423088263       1             0.0          NaN   \n",
       "2           2   5061282401       5             1.0          NaN   \n",
       "\n",
       "   total_feedback_count  total_neg_feedback_count  total_pos_feedback_count  \\\n",
       "0                     2                         0                         2   \n",
       "1                     0                         0                         0   \n",
       "2                     0                         0                         0   \n",
       "\n",
       "  submission_time                                        review_text  \\\n",
       "0      2023-02-01  I use this with the Nudestix “Citrus Clean Bal...   \n",
       "1      2023-03-21  I bought this lip mask after reading the revie...   \n",
       "2      2023-03-21  My review title says it all! I get so excited ...   \n",
       "\n",
       "                       review_title skin_tone eye_color skin_type hair_color  \\\n",
       "0  Taught me how to double cleanse!       NaN     brown       dry      black   \n",
       "1                      Disappointed       NaN       NaN       NaN        NaN   \n",
       "2              New Favorite Routine     light     brown       dry     blonde   \n",
       "\n",
       "  product_id                                       product_name brand_name  \\\n",
       "0    P504322                     Gentle Hydra-Gel Face Cleanser   NUDESTIX   \n",
       "1    P420652  Lip Sleeping Mask Intense Hydration with Vitam...    LANEIGE   \n",
       "2    P420652  Lip Sleeping Mask Intense Hydration with Vitam...    LANEIGE   \n",
       "\n",
       "   price_usd  \n",
       "0       19.0  \n",
       "1       24.0  \n",
       "2       24.0  "
      ]
     },
     "execution_count": 142,
     "metadata": {},
     "output_type": "execute_result"
    }
   ],
   "source": [
    "reviews.head(3)"
   ]
  },
  {
   "cell_type": "markdown",
   "id": "250d597d-c03c-4482-a882-d7d696f2fcae",
   "metadata": {},
   "source": [
    "### Datos duplicados"
   ]
  },
  {
   "cell_type": "code",
   "execution_count": 144,
   "id": "518fd67a-3933-4f11-a1b5-c9a8924aba40",
   "metadata": {},
   "outputs": [
    {
     "data": {
      "text/plain": [
       "0"
      ]
     },
     "execution_count": 144,
     "metadata": {},
     "output_type": "execute_result"
    }
   ],
   "source": [
    "reviews.duplicated().sum()"
   ]
  },
  {
   "cell_type": "markdown",
   "id": "172ab002-cc0f-4d2b-a7c7-45cabc69404e",
   "metadata": {},
   "source": [
    "No tenemos datos duplicados, por lo que no es necesario eliminar ninguna fila."
   ]
  },
  {
   "cell_type": "markdown",
   "id": "9eb802bd-0fcb-4b55-81c9-1845a3a9e0bd",
   "metadata": {},
   "source": [
    "### Eliminamos las reviews sin valoración y recalculamos helpfulness"
   ]
  },
  {
   "cell_type": "code",
   "execution_count": 147,
   "id": "1571715c-b429-4746-8296-a7d45fc9b00d",
   "metadata": {},
   "outputs": [
    {
     "data": {
      "text/plain": [
       "array([100.  ,  25.  ,  44.44, ...,  18.29,  26.56,  90.13])"
      ]
     },
     "execution_count": 147,
     "metadata": {},
     "output_type": "execute_result"
    }
   ],
   "source": [
    "reviews = reviews[reviews.loc[:,'total_feedback_count'] != 0]\n",
    "reviews.loc[:,'helpfulness'] = (reviews.loc[:,'total_pos_feedback_count'] /reviews.loc[:,'total_feedback_count'] * 100).round(2)\n",
    "reviews.loc[:,'helpfulness'].unique()"
   ]
  },
  {
   "cell_type": "code",
   "execution_count": 148,
   "id": "2369525e-dab8-45cd-8195-3079eddbe08b",
   "metadata": {},
   "outputs": [
    {
     "data": {
      "text/html": [
       "<div>\n",
       "<style scoped>\n",
       "    .dataframe tbody tr th:only-of-type {\n",
       "        vertical-align: middle;\n",
       "    }\n",
       "\n",
       "    .dataframe tbody tr th {\n",
       "        vertical-align: top;\n",
       "    }\n",
       "\n",
       "    .dataframe thead th {\n",
       "        text-align: right;\n",
       "    }\n",
       "</style>\n",
       "<table border=\"1\" class=\"dataframe\">\n",
       "  <thead>\n",
       "    <tr style=\"text-align: right;\">\n",
       "      <th></th>\n",
       "      <th>Unnamed: 0</th>\n",
       "      <th>author_id</th>\n",
       "      <th>rating</th>\n",
       "      <th>is_recommended</th>\n",
       "      <th>helpfulness</th>\n",
       "      <th>total_feedback_count</th>\n",
       "      <th>total_neg_feedback_count</th>\n",
       "      <th>total_pos_feedback_count</th>\n",
       "      <th>submission_time</th>\n",
       "      <th>review_text</th>\n",
       "      <th>review_title</th>\n",
       "      <th>skin_tone</th>\n",
       "      <th>eye_color</th>\n",
       "      <th>skin_type</th>\n",
       "      <th>hair_color</th>\n",
       "      <th>product_id</th>\n",
       "      <th>product_name</th>\n",
       "      <th>brand_name</th>\n",
       "      <th>price_usd</th>\n",
       "    </tr>\n",
       "  </thead>\n",
       "  <tbody>\n",
       "    <tr>\n",
       "      <th>0</th>\n",
       "      <td>0</td>\n",
       "      <td>1741593524</td>\n",
       "      <td>5</td>\n",
       "      <td>1.0</td>\n",
       "      <td>100.0</td>\n",
       "      <td>2</td>\n",
       "      <td>0</td>\n",
       "      <td>2</td>\n",
       "      <td>2023-02-01</td>\n",
       "      <td>I use this with the Nudestix “Citrus Clean Bal...</td>\n",
       "      <td>Taught me how to double cleanse!</td>\n",
       "      <td>NaN</td>\n",
       "      <td>brown</td>\n",
       "      <td>dry</td>\n",
       "      <td>black</td>\n",
       "      <td>P504322</td>\n",
       "      <td>Gentle Hydra-Gel Face Cleanser</td>\n",
       "      <td>NUDESTIX</td>\n",
       "      <td>19.0</td>\n",
       "    </tr>\n",
       "    <tr>\n",
       "      <th>5</th>\n",
       "      <td>5</td>\n",
       "      <td>42802569154</td>\n",
       "      <td>4</td>\n",
       "      <td>1.0</td>\n",
       "      <td>100.0</td>\n",
       "      <td>1</td>\n",
       "      <td>0</td>\n",
       "      <td>1</td>\n",
       "      <td>2023-03-19</td>\n",
       "      <td>The scent isn’t my favourite but it works grea...</td>\n",
       "      <td>Great!</td>\n",
       "      <td>lightMedium</td>\n",
       "      <td>brown</td>\n",
       "      <td>normal</td>\n",
       "      <td>brown</td>\n",
       "      <td>P420652</td>\n",
       "      <td>Lip Sleeping Mask Intense Hydration with Vitam...</td>\n",
       "      <td>LANEIGE</td>\n",
       "      <td>24.0</td>\n",
       "    </tr>\n",
       "    <tr>\n",
       "      <th>6</th>\n",
       "      <td>6</td>\n",
       "      <td>6941883808</td>\n",
       "      <td>2</td>\n",
       "      <td>0.0</td>\n",
       "      <td>25.0</td>\n",
       "      <td>8</td>\n",
       "      <td>6</td>\n",
       "      <td>2</td>\n",
       "      <td>2023-03-19</td>\n",
       "      <td>I’ll give this 2 stars for nice packaging and ...</td>\n",
       "      <td>Dried my lips out and clogged my pores</td>\n",
       "      <td>light</td>\n",
       "      <td>blue</td>\n",
       "      <td>combination</td>\n",
       "      <td>brown</td>\n",
       "      <td>P420652</td>\n",
       "      <td>Lip Sleeping Mask Intense Hydration with Vitam...</td>\n",
       "      <td>LANEIGE</td>\n",
       "      <td>24.0</td>\n",
       "    </tr>\n",
       "    <tr>\n",
       "      <th>8</th>\n",
       "      <td>8</td>\n",
       "      <td>7656791726</td>\n",
       "      <td>5</td>\n",
       "      <td>1.0</td>\n",
       "      <td>100.0</td>\n",
       "      <td>1</td>\n",
       "      <td>0</td>\n",
       "      <td>1</td>\n",
       "      <td>2023-03-18</td>\n",
       "      <td>I love this stuff. I first had the sample size...</td>\n",
       "      <td>Must have.</td>\n",
       "      <td>light</td>\n",
       "      <td>blue</td>\n",
       "      <td>normal</td>\n",
       "      <td>blonde</td>\n",
       "      <td>P420652</td>\n",
       "      <td>Lip Sleeping Mask Intense Hydration with Vitam...</td>\n",
       "      <td>LANEIGE</td>\n",
       "      <td>24.0</td>\n",
       "    </tr>\n",
       "    <tr>\n",
       "      <th>9</th>\n",
       "      <td>9</td>\n",
       "      <td>38727834382</td>\n",
       "      <td>5</td>\n",
       "      <td>1.0</td>\n",
       "      <td>100.0</td>\n",
       "      <td>2</td>\n",
       "      <td>0</td>\n",
       "      <td>2</td>\n",
       "      <td>2023-03-18</td>\n",
       "      <td>I purchased the Sweet Candy scent at my local ...</td>\n",
       "      <td>RUN TO PURCHASE</td>\n",
       "      <td>light</td>\n",
       "      <td>brown</td>\n",
       "      <td>normal</td>\n",
       "      <td>brown</td>\n",
       "      <td>P420652</td>\n",
       "      <td>Lip Sleeping Mask Intense Hydration with Vitam...</td>\n",
       "      <td>LANEIGE</td>\n",
       "      <td>24.0</td>\n",
       "    </tr>\n",
       "  </tbody>\n",
       "</table>\n",
       "</div>"
      ],
      "text/plain": [
       "   Unnamed: 0    author_id  rating  is_recommended  helpfulness  \\\n",
       "0           0   1741593524       5             1.0        100.0   \n",
       "5           5  42802569154       4             1.0        100.0   \n",
       "6           6   6941883808       2             0.0         25.0   \n",
       "8           8   7656791726       5             1.0        100.0   \n",
       "9           9  38727834382       5             1.0        100.0   \n",
       "\n",
       "   total_feedback_count  total_neg_feedback_count  total_pos_feedback_count  \\\n",
       "0                     2                         0                         2   \n",
       "5                     1                         0                         1   \n",
       "6                     8                         6                         2   \n",
       "8                     1                         0                         1   \n",
       "9                     2                         0                         2   \n",
       "\n",
       "  submission_time                                        review_text  \\\n",
       "0      2023-02-01  I use this with the Nudestix “Citrus Clean Bal...   \n",
       "5      2023-03-19  The scent isn’t my favourite but it works grea...   \n",
       "6      2023-03-19  I’ll give this 2 stars for nice packaging and ...   \n",
       "8      2023-03-18  I love this stuff. I first had the sample size...   \n",
       "9      2023-03-18  I purchased the Sweet Candy scent at my local ...   \n",
       "\n",
       "                             review_title    skin_tone eye_color    skin_type  \\\n",
       "0        Taught me how to double cleanse!          NaN     brown          dry   \n",
       "5                                  Great!  lightMedium     brown       normal   \n",
       "6  Dried my lips out and clogged my pores        light      blue  combination   \n",
       "8                              Must have.        light      blue       normal   \n",
       "9                         RUN TO PURCHASE        light     brown       normal   \n",
       "\n",
       "  hair_color product_id                                       product_name  \\\n",
       "0      black    P504322                     Gentle Hydra-Gel Face Cleanser   \n",
       "5      brown    P420652  Lip Sleeping Mask Intense Hydration with Vitam...   \n",
       "6      brown    P420652  Lip Sleeping Mask Intense Hydration with Vitam...   \n",
       "8     blonde    P420652  Lip Sleeping Mask Intense Hydration with Vitam...   \n",
       "9      brown    P420652  Lip Sleeping Mask Intense Hydration with Vitam...   \n",
       "\n",
       "  brand_name  price_usd  \n",
       "0   NUDESTIX       19.0  \n",
       "5    LANEIGE       24.0  \n",
       "6    LANEIGE       24.0  \n",
       "8    LANEIGE       24.0  \n",
       "9    LANEIGE       24.0  "
      ]
     },
     "execution_count": 148,
     "metadata": {},
     "output_type": "execute_result"
    }
   ],
   "source": [
    "reviews.head()"
   ]
  },
  {
   "cell_type": "code",
   "execution_count": 149,
   "id": "59dffc28-7a11-4582-a220-09b0faff620c",
   "metadata": {},
   "outputs": [
    {
     "data": {
      "text/plain": [
       "(532819, 19)"
      ]
     },
     "execution_count": 149,
     "metadata": {},
     "output_type": "execute_result"
    }
   ],
   "source": [
    "reviews.shape"
   ]
  },
  {
   "cell_type": "markdown",
   "id": "58d1ab12-2d13-47a9-92eb-2288945c2e0b",
   "metadata": {},
   "source": [
    "Con esto, eliminamos las reviews que no han sido calificadas por otros usuarios. De esta forma nos aseguramos de que las reviews han sido valoradas por otros usuarios."
   ]
  },
  {
   "cell_type": "markdown",
   "id": "a7159f4d-b0b5-4c52-9102-979cf30f3856",
   "metadata": {},
   "source": [
    "### Eliminamos las columnas que no son necesarias\n",
    "Al haber recalculado helpfulness podemos eliminar \"total_neg_feedback_count\" y \"total_pos_feedback_count\""
   ]
  },
  {
   "cell_type": "code",
   "execution_count": 152,
   "id": "ac762393-e4d1-46d5-a146-43177fb43825",
   "metadata": {},
   "outputs": [],
   "source": [
    "reviews.drop(\n",
    "    [\"total_neg_feedback_count\", \"total_pos_feedback_count\"],\n",
    "    axis = 1,\n",
    "    inplace = True\n",
    ")"
   ]
  },
  {
   "cell_type": "markdown",
   "id": "598240ab-49f5-4a8e-a9e2-b0be0d986c76",
   "metadata": {},
   "source": [
    "Eliminamos 'product_name', 'brand_name' y 'review_title' porque no nos aportarán valor para el modelo"
   ]
  },
  {
   "cell_type": "code",
   "execution_count": 155,
   "id": "c196d8ab-a2cc-43fc-82b9-c6a342ad3748",
   "metadata": {},
   "outputs": [],
   "source": [
    "reviews.drop(columns=['product_name', 'review_title'], inplace = True)"
   ]
  },
  {
   "cell_type": "code",
   "execution_count": 158,
   "id": "f39648aa-e160-4686-9581-4cb84bc9b46e",
   "metadata": {},
   "outputs": [
    {
     "data": {
      "text/plain": [
       "Index(['Unnamed: 0', 'author_id', 'rating', 'is_recommended', 'helpfulness',\n",
       "       'total_feedback_count', 'submission_time', 'review_text', 'skin_tone',\n",
       "       'eye_color', 'skin_type', 'hair_color', 'product_id', 'brand_name',\n",
       "       'price_usd'],\n",
       "      dtype='object')"
      ]
     },
     "execution_count": 158,
     "metadata": {},
     "output_type": "execute_result"
    }
   ],
   "source": [
    "reviews.columns"
   ]
  },
  {
   "cell_type": "markdown",
   "id": "789c4539-2816-47df-a89e-993a04154baf",
   "metadata": {},
   "source": [
    "Con esto, nos quedamos con las columnas que consideramos importantes."
   ]
  },
  {
   "cell_type": "markdown",
   "id": "3f8c0fe5-8010-451c-b267-52b4825d7c30",
   "metadata": {},
   "source": [
    "## Transformación y complementación de los datos"
   ]
  },
  {
   "cell_type": "markdown",
   "id": "0aadb89f-54f3-41e0-ae7c-3034d3f233aa",
   "metadata": {},
   "source": [
    "### Cambiamos el nombre de la primera columna a \"review_id\" y ajustamos los datos"
   ]
  },
  {
   "cell_type": "code",
   "execution_count": 180,
   "id": "52e5ebfb-725a-4217-be5e-60adafc17349",
   "metadata": {},
   "outputs": [],
   "source": [
    "reviews.rename(columns={'Unnamed: 0': 'review_id'}, inplace=True)"
   ]
  },
  {
   "cell_type": "code",
   "execution_count": 184,
   "id": "76712e72-dc4d-46b6-ad3e-bcf689baa4fa",
   "metadata": {},
   "outputs": [],
   "source": [
    "reviews['review_id'] = range(1, len(reviews) + 1)"
   ]
  },
  {
   "cell_type": "code",
   "execution_count": 188,
   "id": "223bb07f-a43d-4b7b-81cd-b02b8d007f10",
   "metadata": {},
   "outputs": [
    {
     "data": {
      "text/plain": [
       "(532819, 15)"
      ]
     },
     "execution_count": 188,
     "metadata": {},
     "output_type": "execute_result"
    }
   ],
   "source": [
    "reviews.shape"
   ]
  },
  {
   "cell_type": "markdown",
   "id": "74af5338-16ac-4685-971c-c44dd2dc3cab",
   "metadata": {},
   "source": [
    "### Nos aseguramos de que 'submission_time' se encuentra en formato fecha"
   ]
  },
  {
   "cell_type": "code",
   "execution_count": 191,
   "id": "78eb362e-fd51-4dd0-8c9f-5934b032ed21",
   "metadata": {},
   "outputs": [
    {
     "data": {
      "text/plain": [
       "0        2023-02-01\n",
       "5        2023-03-19\n",
       "6        2023-03-19\n",
       "8        2023-03-18\n",
       "9        2023-03-18\n",
       "            ...    \n",
       "49939    2022-07-15\n",
       "49941    2021-08-24\n",
       "49942    2023-02-25\n",
       "49943    2022-10-12\n",
       "49945    2021-05-26\n",
       "Name: submission_time, Length: 532819, dtype: object"
      ]
     },
     "execution_count": 191,
     "metadata": {},
     "output_type": "execute_result"
    }
   ],
   "source": [
    "reviews.loc[:,'submission_time'] = pd.to_datetime(reviews.loc[:,'submission_time']).dt.date\n",
    "reviews['submission_time']"
   ]
  },
  {
   "cell_type": "code",
   "execution_count": 193,
   "id": "4ef3cb77-f3ae-4115-9b15-6cdd28d6e3d9",
   "metadata": {},
   "outputs": [
    {
     "data": {
      "text/plain": [
       "(532819, 15)"
      ]
     },
     "execution_count": 193,
     "metadata": {},
     "output_type": "execute_result"
    }
   ],
   "source": [
    "reviews.shape"
   ]
  },
  {
   "cell_type": "markdown",
   "id": "b09ce60a-01e1-4716-aa47-c5d0fef8b5f2",
   "metadata": {},
   "source": [
    "### Ajustamos los datos de 'eye_color'"
   ]
  },
  {
   "cell_type": "code",
   "execution_count": 196,
   "id": "87c0ac79-45d6-44e2-a958-84ea1a65f237",
   "metadata": {},
   "outputs": [
    {
     "data": {
      "text/plain": [
       "array(['brown', 'blue', 'green', 'hazel', nan], dtype=object)"
      ]
     },
     "execution_count": 196,
     "metadata": {},
     "output_type": "execute_result"
    }
   ],
   "source": [
    "reviews.eye_color.unique()\n",
    "\n",
    "# Reemplazar 'gray' y 'Grey' por 'blue'\n",
    "reviews.loc[:,'eye_color'] = reviews.loc[:,'eye_color'].replace(['gray', 'Grey'], 'blue')\n",
    "reviews.eye_color.unique()"
   ]
  },
  {
   "cell_type": "markdown",
   "id": "69bfa912-02cc-4a11-be4b-a032de77e7f7",
   "metadata": {},
   "source": [
    "### Agrupamos los datos de 'skin_tone'"
   ]
  },
  {
   "cell_type": "code",
   "execution_count": 198,
   "id": "cbf846df-8971-4241-84a0-5f25670a9ccd",
   "metadata": {},
   "outputs": [],
   "source": [
    "skin_tone_new = {\n",
    "    'porcelain': 'very_light',\n",
    "    'fair': 'very_light',\n",
    "    'fairLight': 'very_light',\n",
    "    'light': 'very_light',\n",
    "    'lightMedium': 'light_to_medium',\n",
    "    'medium': 'light_to_medium',\n",
    "    'olive': 'medium_to_tan',\n",
    "    'mediumTan': 'medium_to_tan',\n",
    "    'tan': 'medium_to_tan',\n",
    "    'rich': 'dark',\n",
    "    'deep': 'dark',\n",
    "    'dark': 'dark',\n",
    "    'ebony': 'dark',\n",
    "    'notSureST': np.nan\n",
    "}\n",
    "\n",
    "reviews.loc[:,'skin_tone'] = reviews.loc[:,'skin_tone'].replace(skin_tone_new)"
   ]
  },
  {
   "cell_type": "code",
   "execution_count": 199,
   "id": "b0c01cfb-0415-4787-b9e4-22d2d6f22de0",
   "metadata": {},
   "outputs": [
    {
     "data": {
      "text/plain": [
       "array([nan, 'light_to_medium', 'very_light', 'medium_to_tan', 'dark'],\n",
       "      dtype=object)"
      ]
     },
     "execution_count": 199,
     "metadata": {},
     "output_type": "execute_result"
    }
   ],
   "source": [
    "reviews.skin_tone.unique()"
   ]
  },
  {
   "cell_type": "markdown",
   "id": "acdc3388-6b50-434a-ad77-33a366e05aff",
   "metadata": {},
   "source": [
    "### Reemplazamos los datos de 'hair_color'"
   ]
  },
  {
   "cell_type": "code",
   "execution_count": 201,
   "id": "d3335a96-b6b4-43ca-802d-c1f7dd498740",
   "metadata": {},
   "outputs": [],
   "source": [
    "reviews.loc[:,'hair_color'] = reviews.loc[:,'hair_color'].replace({\n",
    "    'brunette': 'brown',\n",
    "    'auburn': 'red'\n",
    "})"
   ]
  },
  {
   "cell_type": "code",
   "execution_count": 202,
   "id": "8b782899-845e-4750-8bea-913cb9467b57",
   "metadata": {},
   "outputs": [
    {
     "data": {
      "text/plain": [
       "array(['black', 'brown', 'blonde', nan, 'red', 'gray'], dtype=object)"
      ]
     },
     "execution_count": 202,
     "metadata": {},
     "output_type": "execute_result"
    }
   ],
   "source": [
    "reviews.hair_color.unique()"
   ]
  },
  {
   "cell_type": "markdown",
   "id": "810b5596-4533-4b34-add8-b21bd4dca122",
   "metadata": {},
   "source": [
    "### Creamos la columna 'is_recomended' basada en la columna 'rating'\n",
    "\n",
    "Con esta columna consideraremos como recomendación las reviews con ratings de 4 o 5"
   ]
  },
  {
   "cell_type": "code",
   "execution_count": 205,
   "id": "0b5edd36-4d9f-4f53-a647-45fb16a74247",
   "metadata": {},
   "outputs": [],
   "source": [
    "reviews.loc[:,'is_recommended'] = (reviews['rating'] > 3).astype(int)"
   ]
  },
  {
   "cell_type": "code",
   "execution_count": 206,
   "id": "66188d4e-ccb2-425e-9f79-285ca2f936a9",
   "metadata": {},
   "outputs": [
    {
     "data": {
      "text/html": [
       "<div>\n",
       "<style scoped>\n",
       "    .dataframe tbody tr th:only-of-type {\n",
       "        vertical-align: middle;\n",
       "    }\n",
       "\n",
       "    .dataframe tbody tr th {\n",
       "        vertical-align: top;\n",
       "    }\n",
       "\n",
       "    .dataframe thead th {\n",
       "        text-align: right;\n",
       "    }\n",
       "</style>\n",
       "<table border=\"1\" class=\"dataframe\">\n",
       "  <thead>\n",
       "    <tr style=\"text-align: right;\">\n",
       "      <th></th>\n",
       "      <th>review_id</th>\n",
       "      <th>author_id</th>\n",
       "      <th>rating</th>\n",
       "      <th>is_recommended</th>\n",
       "      <th>helpfulness</th>\n",
       "      <th>total_feedback_count</th>\n",
       "      <th>submission_time</th>\n",
       "      <th>review_text</th>\n",
       "      <th>skin_tone</th>\n",
       "      <th>eye_color</th>\n",
       "      <th>skin_type</th>\n",
       "      <th>hair_color</th>\n",
       "      <th>product_id</th>\n",
       "      <th>brand_name</th>\n",
       "      <th>price_usd</th>\n",
       "    </tr>\n",
       "  </thead>\n",
       "  <tbody>\n",
       "    <tr>\n",
       "      <th>0</th>\n",
       "      <td>1</td>\n",
       "      <td>1741593524</td>\n",
       "      <td>5</td>\n",
       "      <td>1.0</td>\n",
       "      <td>100.0</td>\n",
       "      <td>2</td>\n",
       "      <td>2023-02-01</td>\n",
       "      <td>I use this with the Nudestix “Citrus Clean Bal...</td>\n",
       "      <td>NaN</td>\n",
       "      <td>brown</td>\n",
       "      <td>dry</td>\n",
       "      <td>black</td>\n",
       "      <td>P504322</td>\n",
       "      <td>NUDESTIX</td>\n",
       "      <td>19.0</td>\n",
       "    </tr>\n",
       "    <tr>\n",
       "      <th>5</th>\n",
       "      <td>2</td>\n",
       "      <td>42802569154</td>\n",
       "      <td>4</td>\n",
       "      <td>1.0</td>\n",
       "      <td>100.0</td>\n",
       "      <td>1</td>\n",
       "      <td>2023-03-19</td>\n",
       "      <td>The scent isn’t my favourite but it works grea...</td>\n",
       "      <td>light_to_medium</td>\n",
       "      <td>brown</td>\n",
       "      <td>normal</td>\n",
       "      <td>brown</td>\n",
       "      <td>P420652</td>\n",
       "      <td>LANEIGE</td>\n",
       "      <td>24.0</td>\n",
       "    </tr>\n",
       "    <tr>\n",
       "      <th>6</th>\n",
       "      <td>3</td>\n",
       "      <td>6941883808</td>\n",
       "      <td>2</td>\n",
       "      <td>0.0</td>\n",
       "      <td>25.0</td>\n",
       "      <td>8</td>\n",
       "      <td>2023-03-19</td>\n",
       "      <td>I’ll give this 2 stars for nice packaging and ...</td>\n",
       "      <td>very_light</td>\n",
       "      <td>blue</td>\n",
       "      <td>combination</td>\n",
       "      <td>brown</td>\n",
       "      <td>P420652</td>\n",
       "      <td>LANEIGE</td>\n",
       "      <td>24.0</td>\n",
       "    </tr>\n",
       "    <tr>\n",
       "      <th>8</th>\n",
       "      <td>4</td>\n",
       "      <td>7656791726</td>\n",
       "      <td>5</td>\n",
       "      <td>1.0</td>\n",
       "      <td>100.0</td>\n",
       "      <td>1</td>\n",
       "      <td>2023-03-18</td>\n",
       "      <td>I love this stuff. I first had the sample size...</td>\n",
       "      <td>very_light</td>\n",
       "      <td>blue</td>\n",
       "      <td>normal</td>\n",
       "      <td>blonde</td>\n",
       "      <td>P420652</td>\n",
       "      <td>LANEIGE</td>\n",
       "      <td>24.0</td>\n",
       "    </tr>\n",
       "    <tr>\n",
       "      <th>9</th>\n",
       "      <td>5</td>\n",
       "      <td>38727834382</td>\n",
       "      <td>5</td>\n",
       "      <td>1.0</td>\n",
       "      <td>100.0</td>\n",
       "      <td>2</td>\n",
       "      <td>2023-03-18</td>\n",
       "      <td>I purchased the Sweet Candy scent at my local ...</td>\n",
       "      <td>very_light</td>\n",
       "      <td>brown</td>\n",
       "      <td>normal</td>\n",
       "      <td>brown</td>\n",
       "      <td>P420652</td>\n",
       "      <td>LANEIGE</td>\n",
       "      <td>24.0</td>\n",
       "    </tr>\n",
       "  </tbody>\n",
       "</table>\n",
       "</div>"
      ],
      "text/plain": [
       "   review_id    author_id  rating  is_recommended  helpfulness  \\\n",
       "0          1   1741593524       5             1.0        100.0   \n",
       "5          2  42802569154       4             1.0        100.0   \n",
       "6          3   6941883808       2             0.0         25.0   \n",
       "8          4   7656791726       5             1.0        100.0   \n",
       "9          5  38727834382       5             1.0        100.0   \n",
       "\n",
       "   total_feedback_count submission_time  \\\n",
       "0                     2      2023-02-01   \n",
       "5                     1      2023-03-19   \n",
       "6                     8      2023-03-19   \n",
       "8                     1      2023-03-18   \n",
       "9                     2      2023-03-18   \n",
       "\n",
       "                                         review_text        skin_tone  \\\n",
       "0  I use this with the Nudestix “Citrus Clean Bal...              NaN   \n",
       "5  The scent isn’t my favourite but it works grea...  light_to_medium   \n",
       "6  I’ll give this 2 stars for nice packaging and ...       very_light   \n",
       "8  I love this stuff. I first had the sample size...       very_light   \n",
       "9  I purchased the Sweet Candy scent at my local ...       very_light   \n",
       "\n",
       "  eye_color    skin_type hair_color product_id brand_name  price_usd  \n",
       "0     brown          dry      black    P504322   NUDESTIX       19.0  \n",
       "5     brown       normal      brown    P420652    LANEIGE       24.0  \n",
       "6      blue  combination      brown    P420652    LANEIGE       24.0  \n",
       "8      blue       normal     blonde    P420652    LANEIGE       24.0  \n",
       "9     brown       normal      brown    P420652    LANEIGE       24.0  "
      ]
     },
     "execution_count": 206,
     "metadata": {},
     "output_type": "execute_result"
    }
   ],
   "source": [
    "reviews.head()"
   ]
  },
  {
   "cell_type": "markdown",
   "id": "57769666-57c6-439e-adf0-c7903a5bc1f3",
   "metadata": {},
   "source": [
    "### Rellenamos los datos faltantes"
   ]
  },
  {
   "cell_type": "code",
   "execution_count": 208,
   "id": "ec2695f0-ec94-4056-bf59-f8bef8d8de17",
   "metadata": {},
   "outputs": [
    {
     "data": {
      "text/plain": [
       "review_id                    0\n",
       "author_id                    0\n",
       "rating                       0\n",
       "is_recommended               0\n",
       "helpfulness                  0\n",
       "total_feedback_count         0\n",
       "submission_time              0\n",
       "review_text                447\n",
       "skin_tone                88522\n",
       "eye_color               103605\n",
       "skin_type                56265\n",
       "hair_color              108843\n",
       "product_id                   0\n",
       "brand_name                   0\n",
       "price_usd                    0\n",
       "dtype: int64"
      ]
     },
     "execution_count": 208,
     "metadata": {},
     "output_type": "execute_result"
    }
   ],
   "source": [
    "reviews.isnull().sum()"
   ]
  },
  {
   "cell_type": "code",
   "execution_count": 209,
   "id": "dae28c84-c046-44f7-a6ba-a123a4a39b89",
   "metadata": {},
   "outputs": [],
   "source": [
    "# Calculamos la moda para cada product_id y cada columna\n",
    "moda_por_producto = reviews.groupby('product_id').agg({\n",
    "    'hair_color': lambda x: x.mode().iloc[0] if not x.mode().empty else None,\n",
    "    'eye_color': lambda x: x.mode().iloc[0] if not x.mode().empty else None,\n",
    "    'skin_tone': lambda x: x.mode().iloc[0] if not x.mode().empty else None,\n",
    "    'skin_type': lambda x: x.mode().iloc[0] if not x.mode().empty else None\n",
    "}).reset_index()"
   ]
  },
  {
   "cell_type": "code",
   "execution_count": 210,
   "id": "2f0cd246-56c6-4fc1-8ac5-22c840bd8847",
   "metadata": {},
   "outputs": [
    {
     "name": "stderr",
     "output_type": "stream",
     "text": [
      "C:\\Users\\bigle\\AppData\\Local\\Temp\\ipykernel_27360\\793006523.py:6: FutureWarning: A value is trying to be set on a copy of a DataFrame or Series through chained assignment using an inplace method.\n",
      "The behavior will change in pandas 3.0. This inplace method will never work because the intermediate object on which we are setting values always behaves as a copy.\n",
      "\n",
      "For example, when doing 'df[col].method(value, inplace=True)', try using 'df.method({col: value}, inplace=True)' or df[col] = df[col].method(value) instead, to perform the operation inplace on the original object.\n",
      "\n",
      "\n",
      "  reviews[column].fillna(reviews[f'{column}_moda'], inplace=True)\n"
     ]
    }
   ],
   "source": [
    "# Combina reviews1 con las modas calculadas\n",
    "reviews = reviews.merge(moda_por_producto, on='product_id', suffixes=('', '_moda'))\n",
    "\n",
    "# Rellena los valores nulos en cada columna usando las columnas de moda\n",
    "for column in ['hair_color', 'eye_color', 'skin_tone', 'skin_type']:\n",
    "    reviews[column].fillna(reviews[f'{column}_moda'], inplace=True)\n",
    "\n",
    "# Elimina las columnas adicionales\n",
    "reviews.drop(columns=[f'{column}_moda' for column in ['hair_color', 'eye_color', 'skin_tone', 'skin_type']], inplace=True)"
   ]
  },
  {
   "cell_type": "code",
   "execution_count": 214,
   "id": "2600ea18-97d6-44e7-860b-e90e1089bb95",
   "metadata": {},
   "outputs": [
    {
     "data": {
      "text/plain": [
       "review_id                 0\n",
       "author_id                 0\n",
       "rating                    0\n",
       "is_recommended            0\n",
       "helpfulness               0\n",
       "total_feedback_count      0\n",
       "submission_time           0\n",
       "review_text             447\n",
       "skin_tone                 6\n",
       "eye_color                 2\n",
       "skin_type                 2\n",
       "hair_color               19\n",
       "product_id                0\n",
       "brand_name                0\n",
       "price_usd                 0\n",
       "dtype: int64"
      ]
     },
     "execution_count": 214,
     "metadata": {},
     "output_type": "execute_result"
    }
   ],
   "source": [
    "reviews.isnull().sum()"
   ]
  },
  {
   "cell_type": "markdown",
   "id": "c545894a-782a-4a12-b371-446f9c93363d",
   "metadata": {},
   "source": [
    "### Eliminamos las filas que contienen nulos"
   ]
  },
  {
   "cell_type": "code",
   "execution_count": 217,
   "id": "a60620bd-225d-47a7-b287-15f132a5c29e",
   "metadata": {},
   "outputs": [],
   "source": [
    "reviews.dropna(inplace = True)"
   ]
  },
  {
   "cell_type": "code",
   "execution_count": 218,
   "id": "dc9cc1bf-c9a0-41cd-ab2f-bb32fa675bf8",
   "metadata": {},
   "outputs": [
    {
     "data": {
      "text/plain": [
       "review_id               0\n",
       "author_id               0\n",
       "rating                  0\n",
       "is_recommended          0\n",
       "helpfulness             0\n",
       "total_feedback_count    0\n",
       "submission_time         0\n",
       "review_text             0\n",
       "skin_tone               0\n",
       "eye_color               0\n",
       "skin_type               0\n",
       "hair_color              0\n",
       "product_id              0\n",
       "brand_name              0\n",
       "price_usd               0\n",
       "dtype: int64"
      ]
     },
     "execution_count": 218,
     "metadata": {},
     "output_type": "execute_result"
    }
   ],
   "source": [
    "reviews.isnull().sum()"
   ]
  },
  {
   "cell_type": "code",
   "execution_count": 219,
   "id": "4359fc84-2270-49b8-960d-a4df67dbdce3",
   "metadata": {},
   "outputs": [
    {
     "data": {
      "text/html": [
       "<div>\n",
       "<style scoped>\n",
       "    .dataframe tbody tr th:only-of-type {\n",
       "        vertical-align: middle;\n",
       "    }\n",
       "\n",
       "    .dataframe tbody tr th {\n",
       "        vertical-align: top;\n",
       "    }\n",
       "\n",
       "    .dataframe thead th {\n",
       "        text-align: right;\n",
       "    }\n",
       "</style>\n",
       "<table border=\"1\" class=\"dataframe\">\n",
       "  <thead>\n",
       "    <tr style=\"text-align: right;\">\n",
       "      <th></th>\n",
       "      <th>review_id</th>\n",
       "      <th>author_id</th>\n",
       "      <th>rating</th>\n",
       "      <th>is_recommended</th>\n",
       "      <th>helpfulness</th>\n",
       "      <th>total_feedback_count</th>\n",
       "      <th>submission_time</th>\n",
       "      <th>review_text</th>\n",
       "      <th>skin_tone</th>\n",
       "      <th>eye_color</th>\n",
       "      <th>skin_type</th>\n",
       "      <th>hair_color</th>\n",
       "      <th>product_id</th>\n",
       "      <th>brand_name</th>\n",
       "      <th>price_usd</th>\n",
       "    </tr>\n",
       "  </thead>\n",
       "  <tbody>\n",
       "    <tr>\n",
       "      <th>1</th>\n",
       "      <td>2</td>\n",
       "      <td>42802569154</td>\n",
       "      <td>4</td>\n",
       "      <td>1.0</td>\n",
       "      <td>100.00</td>\n",
       "      <td>1</td>\n",
       "      <td>2023-03-19</td>\n",
       "      <td>The scent isn’t my favourite but it works grea...</td>\n",
       "      <td>light_to_medium</td>\n",
       "      <td>brown</td>\n",
       "      <td>normal</td>\n",
       "      <td>brown</td>\n",
       "      <td>P420652</td>\n",
       "      <td>LANEIGE</td>\n",
       "      <td>24.0</td>\n",
       "    </tr>\n",
       "    <tr>\n",
       "      <th>2</th>\n",
       "      <td>3</td>\n",
       "      <td>6941883808</td>\n",
       "      <td>2</td>\n",
       "      <td>0.0</td>\n",
       "      <td>25.00</td>\n",
       "      <td>8</td>\n",
       "      <td>2023-03-19</td>\n",
       "      <td>I’ll give this 2 stars for nice packaging and ...</td>\n",
       "      <td>very_light</td>\n",
       "      <td>blue</td>\n",
       "      <td>combination</td>\n",
       "      <td>brown</td>\n",
       "      <td>P420652</td>\n",
       "      <td>LANEIGE</td>\n",
       "      <td>24.0</td>\n",
       "    </tr>\n",
       "    <tr>\n",
       "      <th>3</th>\n",
       "      <td>4</td>\n",
       "      <td>7656791726</td>\n",
       "      <td>5</td>\n",
       "      <td>1.0</td>\n",
       "      <td>100.00</td>\n",
       "      <td>1</td>\n",
       "      <td>2023-03-18</td>\n",
       "      <td>I love this stuff. I first had the sample size...</td>\n",
       "      <td>very_light</td>\n",
       "      <td>blue</td>\n",
       "      <td>normal</td>\n",
       "      <td>blonde</td>\n",
       "      <td>P420652</td>\n",
       "      <td>LANEIGE</td>\n",
       "      <td>24.0</td>\n",
       "    </tr>\n",
       "    <tr>\n",
       "      <th>4</th>\n",
       "      <td>5</td>\n",
       "      <td>38727834382</td>\n",
       "      <td>5</td>\n",
       "      <td>1.0</td>\n",
       "      <td>100.00</td>\n",
       "      <td>2</td>\n",
       "      <td>2023-03-18</td>\n",
       "      <td>I purchased the Sweet Candy scent at my local ...</td>\n",
       "      <td>very_light</td>\n",
       "      <td>brown</td>\n",
       "      <td>normal</td>\n",
       "      <td>brown</td>\n",
       "      <td>P420652</td>\n",
       "      <td>LANEIGE</td>\n",
       "      <td>24.0</td>\n",
       "    </tr>\n",
       "    <tr>\n",
       "      <th>5</th>\n",
       "      <td>6</td>\n",
       "      <td>22249699172</td>\n",
       "      <td>1</td>\n",
       "      <td>0.0</td>\n",
       "      <td>44.44</td>\n",
       "      <td>9</td>\n",
       "      <td>2023-03-17</td>\n",
       "      <td>Honestly I was so excited when I got this in t...</td>\n",
       "      <td>very_light</td>\n",
       "      <td>brown</td>\n",
       "      <td>dry</td>\n",
       "      <td>brown</td>\n",
       "      <td>P420652</td>\n",
       "      <td>LANEIGE</td>\n",
       "      <td>24.0</td>\n",
       "    </tr>\n",
       "  </tbody>\n",
       "</table>\n",
       "</div>"
      ],
      "text/plain": [
       "   review_id    author_id  rating  is_recommended  helpfulness  \\\n",
       "1          2  42802569154       4             1.0       100.00   \n",
       "2          3   6941883808       2             0.0        25.00   \n",
       "3          4   7656791726       5             1.0       100.00   \n",
       "4          5  38727834382       5             1.0       100.00   \n",
       "5          6  22249699172       1             0.0        44.44   \n",
       "\n",
       "   total_feedback_count submission_time  \\\n",
       "1                     1      2023-03-19   \n",
       "2                     8      2023-03-19   \n",
       "3                     1      2023-03-18   \n",
       "4                     2      2023-03-18   \n",
       "5                     9      2023-03-17   \n",
       "\n",
       "                                         review_text        skin_tone  \\\n",
       "1  The scent isn’t my favourite but it works grea...  light_to_medium   \n",
       "2  I’ll give this 2 stars for nice packaging and ...       very_light   \n",
       "3  I love this stuff. I first had the sample size...       very_light   \n",
       "4  I purchased the Sweet Candy scent at my local ...       very_light   \n",
       "5  Honestly I was so excited when I got this in t...       very_light   \n",
       "\n",
       "  eye_color    skin_type hair_color product_id brand_name  price_usd  \n",
       "1     brown       normal      brown    P420652    LANEIGE       24.0  \n",
       "2      blue  combination      brown    P420652    LANEIGE       24.0  \n",
       "3      blue       normal     blonde    P420652    LANEIGE       24.0  \n",
       "4     brown       normal      brown    P420652    LANEIGE       24.0  \n",
       "5     brown          dry      brown    P420652    LANEIGE       24.0  "
      ]
     },
     "execution_count": 219,
     "metadata": {},
     "output_type": "execute_result"
    }
   ],
   "source": [
    "reviews.head()"
   ]
  },
  {
   "cell_type": "markdown",
   "id": "f8cb6f6c-02d5-4e2c-a629-e0dca414e84b",
   "metadata": {},
   "source": [
    "## Filtrado de usuarios"
   ]
  },
  {
   "cell_type": "code",
   "execution_count": 224,
   "id": "7e7163c3-1066-4775-9627-801d6fab978f",
   "metadata": {},
   "outputs": [
    {
     "data": {
      "text/plain": [
       "(532351, 15)"
      ]
     },
     "execution_count": 224,
     "metadata": {},
     "output_type": "execute_result"
    }
   ],
   "source": [
    "reviews.shape"
   ]
  },
  {
   "cell_type": "code",
   "execution_count": 225,
   "id": "6a784b1f-984d-4ac8-83c6-4dfcf67c7eb8",
   "metadata": {},
   "outputs": [
    {
     "data": {
      "text/plain": [
       "329984"
      ]
     },
     "execution_count": 225,
     "metadata": {},
     "output_type": "execute_result"
    }
   ],
   "source": [
    "reviews.author_id.nunique()"
   ]
  },
  {
   "cell_type": "markdown",
   "id": "642731d3-cb08-4f9b-96ea-eab892f91d01",
   "metadata": {},
   "source": [
    "Tenenemos un total de 329984, muchos de ellos con una única review de productos. Esto nos complica generar perfiles claros de clientes."
   ]
  },
  {
   "cell_type": "markdown",
   "id": "5bd16bac-e266-476a-bd48-27f739f50fe0",
   "metadata": {},
   "source": [
    "### Renombramos los ID de clientes mal guardados y los hacemos numéricos"
   ]
  },
  {
   "cell_type": "code",
   "execution_count": 229,
   "id": "669a1f8d-e2be-41d9-816c-af839dc859ac",
   "metadata": {},
   "outputs": [],
   "source": [
    "# Función para eliminar las letras y conservar solo los números\n",
    "def extraer_numeros(author_id):\n",
    "    # Convertir a cadena de texto para asegurarnos de que podemos aplicar la expresión regular\n",
    "    author_id = str(author_id)\n",
    "    return re.sub(r'\\D', '', author_id)  # \\D significa cualquier carácter que no sea un dígito\n",
    "\n",
    "# Aplicar la función a la columna 'author_id' para limpiar los datos\n",
    "reviews['author_id'] = reviews['author_id'].apply(extraer_numeros)"
   ]
  },
  {
   "cell_type": "code",
   "execution_count": 230,
   "id": "4a13e337-4d39-4f14-8267-a23a75e43f5e",
   "metadata": {},
   "outputs": [
    {
     "data": {
      "text/plain": [
       "(532351, 15)"
      ]
     },
     "execution_count": 230,
     "metadata": {},
     "output_type": "execute_result"
    }
   ],
   "source": [
    "reviews.shape"
   ]
  },
  {
   "cell_type": "markdown",
   "id": "2db8f8c3-c85f-4315-8d3c-e45c2fd87111",
   "metadata": {},
   "source": [
    "### Nos quedamos con usuarios con 3 o más reviews"
   ]
  },
  {
   "cell_type": "code",
   "execution_count": 232,
   "id": "d5251978-9280-417b-8c69-ec431ae09af8",
   "metadata": {},
   "outputs": [],
   "source": [
    "z= reviews.groupby(\"author_id\").size().sort_values(ascending= False)\n",
    "df_author_reviews = z.reset_index(name='review_count')\n",
    "\n",
    "# Renombrar las columnas para mayor claridad\n",
    "df_author_reviews.rename(columns={'author_id': 'author_id', 0: 'review_count'}, inplace=True)"
   ]
  },
  {
   "cell_type": "code",
   "execution_count": 233,
   "id": "d230a932-6663-467d-a092-12a638261d6e",
   "metadata": {},
   "outputs": [
    {
     "data": {
      "text/html": [
       "<div>\n",
       "<style scoped>\n",
       "    .dataframe tbody tr th:only-of-type {\n",
       "        vertical-align: middle;\n",
       "    }\n",
       "\n",
       "    .dataframe tbody tr th {\n",
       "        vertical-align: top;\n",
       "    }\n",
       "\n",
       "    .dataframe thead th {\n",
       "        text-align: right;\n",
       "    }\n",
       "</style>\n",
       "<table border=\"1\" class=\"dataframe\">\n",
       "  <thead>\n",
       "    <tr style=\"text-align: right;\">\n",
       "      <th></th>\n",
       "      <th>author_id</th>\n",
       "      <th>review_count</th>\n",
       "    </tr>\n",
       "  </thead>\n",
       "  <tbody>\n",
       "    <tr>\n",
       "      <th>0</th>\n",
       "      <td>1696370280</td>\n",
       "      <td>245</td>\n",
       "    </tr>\n",
       "    <tr>\n",
       "      <th>1</th>\n",
       "      <td>1288462295</td>\n",
       "      <td>148</td>\n",
       "    </tr>\n",
       "    <tr>\n",
       "      <th>2</th>\n",
       "      <td>1930716686</td>\n",
       "      <td>100</td>\n",
       "    </tr>\n",
       "    <tr>\n",
       "      <th>3</th>\n",
       "      <td>24998050674</td>\n",
       "      <td>89</td>\n",
       "    </tr>\n",
       "    <tr>\n",
       "      <th>4</th>\n",
       "      <td>25452917574</td>\n",
       "      <td>80</td>\n",
       "    </tr>\n",
       "    <tr>\n",
       "      <th>...</th>\n",
       "      <td>...</td>\n",
       "      <td>...</td>\n",
       "    </tr>\n",
       "    <tr>\n",
       "      <th>296837</th>\n",
       "      <td>31404687006</td>\n",
       "      <td>1</td>\n",
       "    </tr>\n",
       "    <tr>\n",
       "      <th>296838</th>\n",
       "      <td>31404986546</td>\n",
       "      <td>1</td>\n",
       "    </tr>\n",
       "    <tr>\n",
       "      <th>296839</th>\n",
       "      <td>31404992779</td>\n",
       "      <td>1</td>\n",
       "    </tr>\n",
       "    <tr>\n",
       "      <th>296840</th>\n",
       "      <td>31405240081</td>\n",
       "      <td>1</td>\n",
       "    </tr>\n",
       "    <tr>\n",
       "      <th>296841</th>\n",
       "      <td>1948137960</td>\n",
       "      <td>1</td>\n",
       "    </tr>\n",
       "  </tbody>\n",
       "</table>\n",
       "<p>296842 rows × 2 columns</p>\n",
       "</div>"
      ],
      "text/plain": [
       "          author_id  review_count\n",
       "0        1696370280           245\n",
       "1        1288462295           148\n",
       "2        1930716686           100\n",
       "3       24998050674            89\n",
       "4       25452917574            80\n",
       "...             ...           ...\n",
       "296837  31404687006             1\n",
       "296838  31404986546             1\n",
       "296839  31404992779             1\n",
       "296840  31405240081             1\n",
       "296841   1948137960             1\n",
       "\n",
       "[296842 rows x 2 columns]"
      ]
     },
     "execution_count": 233,
     "metadata": {},
     "output_type": "execute_result"
    }
   ],
   "source": [
    "df_author_reviews"
   ]
  },
  {
   "cell_type": "code",
   "execution_count": 234,
   "id": "3befe9a9-311f-487e-bee2-cdf41590e305",
   "metadata": {},
   "outputs": [
    {
     "data": {
      "text/plain": [
       "(532351, 15)"
      ]
     },
     "execution_count": 234,
     "metadata": {},
     "output_type": "execute_result"
    }
   ],
   "source": [
    "reviews.shape"
   ]
  },
  {
   "cell_type": "code",
   "execution_count": 235,
   "id": "baeae4d3-5886-440b-b2bb-4a71646f629c",
   "metadata": {},
   "outputs": [
    {
     "data": {
      "text/html": [
       "<div>\n",
       "<style scoped>\n",
       "    .dataframe tbody tr th:only-of-type {\n",
       "        vertical-align: middle;\n",
       "    }\n",
       "\n",
       "    .dataframe tbody tr th {\n",
       "        vertical-align: top;\n",
       "    }\n",
       "\n",
       "    .dataframe thead th {\n",
       "        text-align: right;\n",
       "    }\n",
       "</style>\n",
       "<table border=\"1\" class=\"dataframe\">\n",
       "  <thead>\n",
       "    <tr style=\"text-align: right;\">\n",
       "      <th></th>\n",
       "      <th>author_id</th>\n",
       "      <th>review_count</th>\n",
       "    </tr>\n",
       "  </thead>\n",
       "  <tbody>\n",
       "    <tr>\n",
       "      <th>0</th>\n",
       "      <td>1696370280</td>\n",
       "      <td>245</td>\n",
       "    </tr>\n",
       "    <tr>\n",
       "      <th>1</th>\n",
       "      <td>1288462295</td>\n",
       "      <td>148</td>\n",
       "    </tr>\n",
       "    <tr>\n",
       "      <th>2</th>\n",
       "      <td>1930716686</td>\n",
       "      <td>100</td>\n",
       "    </tr>\n",
       "    <tr>\n",
       "      <th>3</th>\n",
       "      <td>24998050674</td>\n",
       "      <td>89</td>\n",
       "    </tr>\n",
       "    <tr>\n",
       "      <th>4</th>\n",
       "      <td>25452917574</td>\n",
       "      <td>80</td>\n",
       "    </tr>\n",
       "    <tr>\n",
       "      <th>...</th>\n",
       "      <td>...</td>\n",
       "      <td>...</td>\n",
       "    </tr>\n",
       "    <tr>\n",
       "      <th>44489</th>\n",
       "      <td>5879202968</td>\n",
       "      <td>3</td>\n",
       "    </tr>\n",
       "    <tr>\n",
       "      <th>44490</th>\n",
       "      <td>6033307138</td>\n",
       "      <td>3</td>\n",
       "    </tr>\n",
       "    <tr>\n",
       "      <th>44491</th>\n",
       "      <td>969758111</td>\n",
       "      <td>3</td>\n",
       "    </tr>\n",
       "    <tr>\n",
       "      <th>44492</th>\n",
       "      <td>12783103399</td>\n",
       "      <td>3</td>\n",
       "    </tr>\n",
       "    <tr>\n",
       "      <th>44493</th>\n",
       "      <td>12437261000</td>\n",
       "      <td>3</td>\n",
       "    </tr>\n",
       "  </tbody>\n",
       "</table>\n",
       "<p>44494 rows × 2 columns</p>\n",
       "</div>"
      ],
      "text/plain": [
       "         author_id  review_count\n",
       "0       1696370280           245\n",
       "1       1288462295           148\n",
       "2       1930716686           100\n",
       "3      24998050674            89\n",
       "4      25452917574            80\n",
       "...            ...           ...\n",
       "44489   5879202968             3\n",
       "44490   6033307138             3\n",
       "44491    969758111             3\n",
       "44492  12783103399             3\n",
       "44493  12437261000             3\n",
       "\n",
       "[44494 rows x 2 columns]"
      ]
     },
     "execution_count": 235,
     "metadata": {},
     "output_type": "execute_result"
    }
   ],
   "source": [
    "authors_final = df_author_reviews[df_author_reviews[\"review_count\"]>=3]\n",
    "authors_final"
   ]
  },
  {
   "cell_type": "markdown",
   "id": "15cb0621-def6-40dc-b570-13631ef87145",
   "metadata": {},
   "source": [
    "usuarios unicos = 329984\n",
    "usuarios con mas de 1 review = 101352"
   ]
  },
  {
   "cell_type": "markdown",
   "id": "a6a851a7-24da-4e74-87c1-a7ff6d7887e1",
   "metadata": {},
   "source": [
    "### Filtramos la dataframe para quedarnos solo con las reviews de los usuarios correctos"
   ]
  },
  {
   "cell_type": "code",
   "execution_count": 238,
   "id": "20415ffb-75ec-4b6b-a964-368034f01225",
   "metadata": {},
   "outputs": [],
   "source": [
    "reviews_final = reviews[reviews['author_id'].isin(authors_final['author_id'])]"
   ]
  },
  {
   "cell_type": "code",
   "execution_count": 240,
   "id": "0e014fb8-7b4a-498c-8bd9-ef126cc68d31",
   "metadata": {},
   "outputs": [
    {
     "data": {
      "text/plain": [
       "(219106, 15)"
      ]
     },
     "execution_count": 240,
     "metadata": {},
     "output_type": "execute_result"
    }
   ],
   "source": [
    "reviews_final.shape"
   ]
  },
  {
   "cell_type": "markdown",
   "id": "b5183ae8-210e-4d4b-959c-6f8bb82c6f2e",
   "metadata": {},
   "source": [
    "### Columna de número de review\n",
    "Generamos una columna donde se muestre cual es el número de cada review generada por cada usuario."
   ]
  },
  {
   "cell_type": "code",
   "execution_count": 242,
   "id": "6cd938fa-e973-4ad4-93f1-d0090f4ee8f5",
   "metadata": {},
   "outputs": [
    {
     "name": "stderr",
     "output_type": "stream",
     "text": [
      "C:\\Users\\bigle\\AppData\\Local\\Temp\\ipykernel_27360\\3112920716.py:1: SettingWithCopyWarning: \n",
      "A value is trying to be set on a copy of a slice from a DataFrame.\n",
      "Try using .loc[row_indexer,col_indexer] = value instead\n",
      "\n",
      "See the caveats in the documentation: https://pandas.pydata.org/pandas-docs/stable/user_guide/indexing.html#returning-a-view-versus-a-copy\n",
      "  reviews_final.loc[:,'numero_review'] = reviews_final.groupby('author_id').cumcount() + 1\n"
     ]
    }
   ],
   "source": [
    "reviews_final.loc[:,'numero_review'] = reviews_final.groupby('author_id').cumcount() + 1"
   ]
  },
  {
   "cell_type": "code",
   "execution_count": 243,
   "id": "c204aba1-a3e0-4b3e-b2e6-3ae7d75be15c",
   "metadata": {},
   "outputs": [
    {
     "data": {
      "text/html": [
       "<div>\n",
       "<style scoped>\n",
       "    .dataframe tbody tr th:only-of-type {\n",
       "        vertical-align: middle;\n",
       "    }\n",
       "\n",
       "    .dataframe tbody tr th {\n",
       "        vertical-align: top;\n",
       "    }\n",
       "\n",
       "    .dataframe thead th {\n",
       "        text-align: right;\n",
       "    }\n",
       "</style>\n",
       "<table border=\"1\" class=\"dataframe\">\n",
       "  <thead>\n",
       "    <tr style=\"text-align: right;\">\n",
       "      <th></th>\n",
       "      <th>review_id</th>\n",
       "      <th>author_id</th>\n",
       "      <th>rating</th>\n",
       "      <th>is_recommended</th>\n",
       "      <th>helpfulness</th>\n",
       "      <th>total_feedback_count</th>\n",
       "      <th>submission_time</th>\n",
       "      <th>review_text</th>\n",
       "      <th>skin_tone</th>\n",
       "      <th>eye_color</th>\n",
       "      <th>skin_type</th>\n",
       "      <th>hair_color</th>\n",
       "      <th>product_id</th>\n",
       "      <th>brand_name</th>\n",
       "      <th>price_usd</th>\n",
       "      <th>numero_review</th>\n",
       "    </tr>\n",
       "  </thead>\n",
       "  <tbody>\n",
       "    <tr>\n",
       "      <th>1</th>\n",
       "      <td>2</td>\n",
       "      <td>42802569154</td>\n",
       "      <td>4</td>\n",
       "      <td>1.0</td>\n",
       "      <td>100.0</td>\n",
       "      <td>1</td>\n",
       "      <td>2023-03-19</td>\n",
       "      <td>The scent isn’t my favourite but it works grea...</td>\n",
       "      <td>light_to_medium</td>\n",
       "      <td>brown</td>\n",
       "      <td>normal</td>\n",
       "      <td>brown</td>\n",
       "      <td>P420652</td>\n",
       "      <td>LANEIGE</td>\n",
       "      <td>24.0</td>\n",
       "      <td>1</td>\n",
       "    </tr>\n",
       "    <tr>\n",
       "      <th>2</th>\n",
       "      <td>3</td>\n",
       "      <td>6941883808</td>\n",
       "      <td>2</td>\n",
       "      <td>0.0</td>\n",
       "      <td>25.0</td>\n",
       "      <td>8</td>\n",
       "      <td>2023-03-19</td>\n",
       "      <td>I’ll give this 2 stars for nice packaging and ...</td>\n",
       "      <td>very_light</td>\n",
       "      <td>blue</td>\n",
       "      <td>combination</td>\n",
       "      <td>brown</td>\n",
       "      <td>P420652</td>\n",
       "      <td>LANEIGE</td>\n",
       "      <td>24.0</td>\n",
       "      <td>1</td>\n",
       "    </tr>\n",
       "  </tbody>\n",
       "</table>\n",
       "</div>"
      ],
      "text/plain": [
       "   review_id    author_id  rating  is_recommended  helpfulness  \\\n",
       "1          2  42802569154       4             1.0        100.0   \n",
       "2          3   6941883808       2             0.0         25.0   \n",
       "\n",
       "   total_feedback_count submission_time  \\\n",
       "1                     1      2023-03-19   \n",
       "2                     8      2023-03-19   \n",
       "\n",
       "                                         review_text        skin_tone  \\\n",
       "1  The scent isn’t my favourite but it works grea...  light_to_medium   \n",
       "2  I’ll give this 2 stars for nice packaging and ...       very_light   \n",
       "\n",
       "  eye_color    skin_type hair_color product_id brand_name  price_usd  \\\n",
       "1     brown       normal      brown    P420652    LANEIGE       24.0   \n",
       "2      blue  combination      brown    P420652    LANEIGE       24.0   \n",
       "\n",
       "   numero_review  \n",
       "1              1  \n",
       "2              1  "
      ]
     },
     "execution_count": 243,
     "metadata": {},
     "output_type": "execute_result"
    }
   ],
   "source": [
    "reviews_final.head(2)"
   ]
  },
  {
   "cell_type": "markdown",
   "id": "34b4500d-109e-4ba0-9f27-054e67f62ce3",
   "metadata": {},
   "source": [
    "## Clusterización de usuarios"
   ]
  },
  {
   "cell_type": "markdown",
   "id": "e8a973eb-11d6-42d3-a9ab-1eb170b36255",
   "metadata": {},
   "source": [
    "### Creamos una columna de cluster de productos\n",
    "Traemos del dataframe de productos la columna de cluster de producto para así poder ver que tipo de productos compra cada usuario."
   ]
  },
  {
   "cell_type": "code",
   "execution_count": 246,
   "id": "07c27f3f-de7d-4676-9714-8969c3c030f1",
   "metadata": {},
   "outputs": [],
   "source": [
    "reviews_final = reviews_final.merge(\n",
    "    products_final[['product_id', 'cluster_product']],\n",
    "    on='product_id',\n",
    "    how='left'\n",
    ")"
   ]
  },
  {
   "cell_type": "code",
   "execution_count": 247,
   "id": "92a5b75e-cf87-4a20-bb85-98c411605fcd",
   "metadata": {},
   "outputs": [
    {
     "data": {
      "text/html": [
       "<div>\n",
       "<style scoped>\n",
       "    .dataframe tbody tr th:only-of-type {\n",
       "        vertical-align: middle;\n",
       "    }\n",
       "\n",
       "    .dataframe tbody tr th {\n",
       "        vertical-align: top;\n",
       "    }\n",
       "\n",
       "    .dataframe thead th {\n",
       "        text-align: right;\n",
       "    }\n",
       "</style>\n",
       "<table border=\"1\" class=\"dataframe\">\n",
       "  <thead>\n",
       "    <tr style=\"text-align: right;\">\n",
       "      <th></th>\n",
       "      <th>review_id</th>\n",
       "      <th>author_id</th>\n",
       "      <th>rating</th>\n",
       "      <th>is_recommended</th>\n",
       "      <th>helpfulness</th>\n",
       "      <th>total_feedback_count</th>\n",
       "      <th>submission_time</th>\n",
       "      <th>review_text</th>\n",
       "      <th>skin_tone</th>\n",
       "      <th>eye_color</th>\n",
       "      <th>skin_type</th>\n",
       "      <th>hair_color</th>\n",
       "      <th>product_id</th>\n",
       "      <th>brand_name</th>\n",
       "      <th>price_usd</th>\n",
       "      <th>numero_review</th>\n",
       "      <th>cluster_product</th>\n",
       "    </tr>\n",
       "  </thead>\n",
       "  <tbody>\n",
       "    <tr>\n",
       "      <th>0</th>\n",
       "      <td>2</td>\n",
       "      <td>42802569154</td>\n",
       "      <td>4</td>\n",
       "      <td>1.0</td>\n",
       "      <td>100.0</td>\n",
       "      <td>1</td>\n",
       "      <td>2023-03-19</td>\n",
       "      <td>The scent isn’t my favourite but it works grea...</td>\n",
       "      <td>light_to_medium</td>\n",
       "      <td>brown</td>\n",
       "      <td>normal</td>\n",
       "      <td>brown</td>\n",
       "      <td>P420652</td>\n",
       "      <td>LANEIGE</td>\n",
       "      <td>24.0</td>\n",
       "      <td>1</td>\n",
       "      <td>3</td>\n",
       "    </tr>\n",
       "    <tr>\n",
       "      <th>1</th>\n",
       "      <td>3</td>\n",
       "      <td>6941883808</td>\n",
       "      <td>2</td>\n",
       "      <td>0.0</td>\n",
       "      <td>25.0</td>\n",
       "      <td>8</td>\n",
       "      <td>2023-03-19</td>\n",
       "      <td>I’ll give this 2 stars for nice packaging and ...</td>\n",
       "      <td>very_light</td>\n",
       "      <td>blue</td>\n",
       "      <td>combination</td>\n",
       "      <td>brown</td>\n",
       "      <td>P420652</td>\n",
       "      <td>LANEIGE</td>\n",
       "      <td>24.0</td>\n",
       "      <td>1</td>\n",
       "      <td>3</td>\n",
       "    </tr>\n",
       "  </tbody>\n",
       "</table>\n",
       "</div>"
      ],
      "text/plain": [
       "   review_id    author_id  rating  is_recommended  helpfulness  \\\n",
       "0          2  42802569154       4             1.0        100.0   \n",
       "1          3   6941883808       2             0.0         25.0   \n",
       "\n",
       "   total_feedback_count submission_time  \\\n",
       "0                     1      2023-03-19   \n",
       "1                     8      2023-03-19   \n",
       "\n",
       "                                         review_text        skin_tone  \\\n",
       "0  The scent isn’t my favourite but it works grea...  light_to_medium   \n",
       "1  I’ll give this 2 stars for nice packaging and ...       very_light   \n",
       "\n",
       "  eye_color    skin_type hair_color product_id brand_name  price_usd  \\\n",
       "0     brown       normal      brown    P420652    LANEIGE       24.0   \n",
       "1      blue  combination      brown    P420652    LANEIGE       24.0   \n",
       "\n",
       "   numero_review  cluster_product  \n",
       "0              1                3  \n",
       "1              1                3  "
      ]
     },
     "execution_count": 247,
     "metadata": {},
     "output_type": "execute_result"
    }
   ],
   "source": [
    "reviews_final.head(2)"
   ]
  },
  {
   "cell_type": "markdown",
   "id": "2fbe36e7-6bd3-4b1c-8706-90868d20e568",
   "metadata": {},
   "source": [
    "## Guardamos el CSV"
   ]
  },
  {
   "cell_type": "code",
   "execution_count": 257,
   "id": "caa38f51-1c84-46b2-b043-2742df9b1aca",
   "metadata": {},
   "outputs": [
    {
     "data": {
      "text/plain": [
       "(219106, 17)"
      ]
     },
     "execution_count": 257,
     "metadata": {},
     "output_type": "execute_result"
    }
   ],
   "source": [
    "reviews_final.shape"
   ]
  },
  {
   "cell_type": "code",
   "execution_count": 273,
   "id": "4ef9dcaf-b5a1-4c01-8cad-1a091c2f8a89",
   "metadata": {},
   "outputs": [],
   "source": [
    "reviews_final.to_csv('reviews_final.csv', index=False)"
   ]
  },
  {
   "cell_type": "code",
   "execution_count": 274,
   "id": "b6652f33-697b-4c3f-b9e1-b51a105a6dca",
   "metadata": {},
   "outputs": [
    {
     "data": {
      "text/plain": [
       "2329"
      ]
     },
     "execution_count": 274,
     "metadata": {},
     "output_type": "execute_result"
    }
   ],
   "source": [
    "len(reviews.product_id.unique())"
   ]
  },
  {
   "cell_type": "code",
   "execution_count": null,
   "id": "a6b52ac6-7f0b-450b-a207-1d33014d461c",
   "metadata": {},
   "outputs": [],
   "source": []
  }
 ],
 "metadata": {
  "kernelspec": {
   "display_name": "Python 3 (ipykernel)",
   "language": "python",
   "name": "python3"
  },
  "language_info": {
   "codemirror_mode": {
    "name": "ipython",
    "version": 3
   },
   "file_extension": ".py",
   "mimetype": "text/x-python",
   "name": "python",
   "nbconvert_exporter": "python",
   "pygments_lexer": "ipython3",
   "version": "3.12.3"
  }
 },
 "nbformat": 4,
 "nbformat_minor": 5
}
